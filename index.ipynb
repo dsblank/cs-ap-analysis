{
 "cells": [
  {
   "cell_type": "markdown",
   "metadata": {},
   "source": [
    "# 1. Computer Science AP Analysis"
   ]
  },
  {
   "cell_type": "markdown",
   "metadata": {},
   "source": [
    "This is a [Jupyter notebook](http://jupyter.org/) using Python3 to show how to explore the data mentioned in:\n",
    "\n",
    "[Still No African-Americans Taking the AP Computer Science Exam in Nine States](http://blogs.edweek.org/edweek/curriculum/2015/11/no_african-american_students_2015_AP_computer_science_exam_nine_states.html) by [Liana Heitin](http://www.edweek.org/tm/contributors/liana%20.heitin.html) and based on the analysis by Barbara Ericson, Director of Computing Outreach and a senior research scientist at Georgia Tech.\n",
    "\n",
    "This post was mentioned in Facebook's [CSEdForum](https://www.facebook.com/groups/CSEdForum/permalink/1510928882538869/) by Mark Guzdial; check out his [Computing Education Blog](https://computinged.wordpress.com/).\n",
    "\n",
    "You can replicate (and try variations of) this notebook by downloading it (upper right-hand corner) and uploading it to your own Jupyter notebook server, such as at:\n",
    "\n",
    "* http://try.jupyter.org/\n",
    "* [on your own desktop](http://jupyter.readthedocs.org/en/latest/install.html)\n",
    "\n",
    "This notebook was created:\n",
    "\n",
    "* by [Doug Blank](http://cs.brynmawr.edu/~dblank/)\n",
    "* [Bryn Mawr College](http://www.brynmawr.edu/)\n",
    "* Nov 5, 2015\n",
    "\n",
    "Please feel free to copy, explore, and share! If you make corrections or additions, send me [email](mailto:dblank@cs.brynmawr.edu) and I'll update this notebook."
   ]
  },
  {
   "cell_type": "markdown",
   "metadata": {},
   "source": [
    "## 1.1 Software\n",
    "\n",
    "In addition to using the Jupyter notebook, we assume that you have the following installed:\n",
    "\n",
    "* matplotlib\n",
    "* numpy\n",
    "\n",
    "In addition, we will install these lesser-known libraries:"
   ]
  },
  {
   "cell_type": "code",
   "execution_count": null,
   "metadata": {
    "collapsed": false
   },
   "outputs": [],
   "source": [
    "!/home/main/anaconda/envs/python3/bin/python3 -m pip install --upgrade pip"
   ]
  },
  {
   "cell_type": "code",
   "execution_count": null,
   "metadata": {
    "collapsed": false
   },
   "outputs": [],
   "source": [
    "!/home/main/anaconda/envs/python3/bin/python3 -m pip install openpyxl --upgrade"
   ]
  },
  {
   "cell_type": "code",
   "execution_count": null,
   "metadata": {
    "collapsed": false
   },
   "outputs": [],
   "source": [
    "!/home/main/anaconda/envs/python3/bin/python3 -m pip install metakernel"
   ]
  },
  {
   "cell_type": "markdown",
   "metadata": {},
   "source": [
    "And now we can:"
   ]
  },
  {
   "cell_type": "code",
   "execution_count": null,
   "metadata": {
    "collapsed": false
   },
   "outputs": [],
   "source": [
    "import openpyxl   ## used in opening Excel spreadsheets"
   ]
  },
  {
   "cell_type": "code",
   "execution_count": null,
   "metadata": {
    "collapsed": false
   },
   "outputs": [],
   "source": [
    "import metakernel\n",
    "metakernel.register_ipython_magics()   ## used for its %download magic"
   ]
  },
  {
   "cell_type": "markdown",
   "metadata": {},
   "source": [
    "## 1.2 Data\n",
    "\n",
    "As the article above points out, you can get the data from this site:"
   ]
  },
  {
   "cell_type": "markdown",
   "metadata": {},
   "source": [
    "http://research.collegeboard.org/programs/ap/data/participation/ap-2015"
   ]
  },
  {
   "cell_type": "markdown",
   "metadata": {},
   "source": [
    "Here we show downloading one, after getting the link from above:"
   ]
  },
  {
   "cell_type": "code",
   "execution_count": null,
   "metadata": {
    "collapsed": false
   },
   "outputs": [],
   "source": [
    "%download https://secure-media.collegeboard.org/digitalServices/pdf/research/2015/2015-Top-200-Colleges.xlsx"
   ]
  },
  {
   "cell_type": "markdown",
   "metadata": {},
   "source": [
    "## 1.3 Analysis\n",
    "\n",
    "This is an interesting experiment showing the difficulty in getting and analyzing data. Note:\n",
    "\n",
    "* Excel spreadsheets are proprietary, yet used often to disseminate data\n",
    "* Spreadsheets (of any kind) are good for displaying data for humans; not so good for computer analysis\n",
    "\n",
    "Be on the lookout for inconsistent data types. For example, in the following spreadsheet, the year format changes from being an integer to being a string inexplicably in 1997. \n",
    "\n",
    "Also note:\n",
    "\n",
    "* The College Board's website is marked \"© 2015 The College Board\"\n",
    "* The data in the spreadsheet is marked with \"© 2015 The College Board. All rights reserved.\"\n",
    "\n",
    "I have no idea what the limits to using this data are. Use at your own risk.\n",
    "\n",
    "First we download the data file:"
   ]
  },
  {
   "cell_type": "code",
   "execution_count": null,
   "metadata": {
    "collapsed": false
   },
   "outputs": [],
   "source": [
    "%download http://media.collegeboard.com/digitalServices/misc/ap/pennsylvania-summary-2015.xlsx"
   ]
  },
  {
   "cell_type": "markdown",
   "metadata": {},
   "source": [
    "Then we use the openpyxl library to read in the data, and show the worksheet names. (I don't know this library, but after creating the Python object, you can type a dot followed by a TAB to show the methods. Or [read the sparse docs](http://openpyxl.readthedocs.org/en/latest/).)"
   ]
  },
  {
   "cell_type": "code",
   "execution_count": null,
   "metadata": {
    "collapsed": false
   },
   "outputs": [],
   "source": [
    "workbook = openpyxl.load_workbook('pennsylvania-summary-2015.xlsx')\n",
    "print(workbook.get_sheet_names())"
   ]
  },
  {
   "cell_type": "markdown",
   "metadata": {},
   "source": [
    "Using trial and error, we write a function that takes a workbook, finds the right sheet, and returns the data. This may perhaps work on any state's summary spreadsheet."
   ]
  },
  {
   "cell_type": "code",
   "execution_count": null,
   "metadata": {
    "collapsed": false
   },
   "outputs": [],
   "source": [
    "def get_annual_participation(workbook):\n",
    "    worksheet = workbook.get_sheet_by_name(\"Annual Participation\")\n",
    "    data = {}\n",
    "    row_count = 0\n",
    "    for row in worksheet.iter_rows():\n",
    "        year = row[0].value\n",
    "        if (type(year) == str and year.isdigit()) or type(year) == int:\n",
    "            year = str(row[0].value)\n",
    "            students = int(row[2].value)\n",
    "            data[year] = students\n",
    "        row_count += 1\n",
    "    data_keys = sorted(data.keys())\n",
    "    data_values = [data[k] for k in data_keys]\n",
    "    return data_keys, data_values"
   ]
  },
  {
   "cell_type": "markdown",
   "metadata": {},
   "source": [
    "We call the function to get the data returned as [keys, values] where keys are the years (as strings) and values are the students taking the exam."
   ]
  },
  {
   "cell_type": "code",
   "execution_count": null,
   "metadata": {
    "collapsed": false
   },
   "outputs": [],
   "source": [
    "data = get_annual_participation(workbook)"
   ]
  },
  {
   "cell_type": "markdown",
   "metadata": {},
   "source": [
    "For this demo, I'll use the standard library `matplotlib` because it is very common. I don't particularly like the interface, but it is flexible if not easy to use. I also use the standard method (in the sciences, especially Biology and Physics) of aliasing `matplotlib.pyplot` to be `plt`."
   ]
  },
  {
   "cell_type": "code",
   "execution_count": null,
   "metadata": {
    "collapsed": true
   },
   "outputs": [],
   "source": [
    "%matplotlib notebook\n",
    "import matplotlib.pyplot as plt"
   ]
  },
  {
   "cell_type": "markdown",
   "metadata": {},
   "source": [
    "We can now plot our labels/data with this call to `plt.plot()`:"
   ]
  },
  {
   "cell_type": "code",
   "execution_count": null,
   "metadata": {
    "collapsed": false
   },
   "outputs": [],
   "source": [
    "plt.plot(*data);"
   ]
  },
  {
   "cell_type": "markdown",
   "metadata": {},
   "source": [
    "This is all students, by year, taking the an AP exam in Pennsylvania. \n",
    "\n",
    "What about in just a specific field, like Computer science? The data doesn't appear to be year in an annual breakdown, but we can get it for this year.\n",
    "\n",
    "The field/topic names are this in the spreadsheet:\n",
    "\n",
    "```python\n",
    "['ART: \\nHISTORY', 'BIOLOGY', 'CALCULUS AB', 'CALCULUS BC', 'CHEMISTRY', 'CHINESE LANG. \\n& CULTURE', 'COMPUTER \\nSCIENCE A', 'ECONOMICS: \\nMACRO', 'ECONOMICS: \\nMICRO', 'ENGLISH LANG-\\n&COMPOSITION', 'ENGLISH LIT-\\n&COMPOSITION', 'ENVIRONMENTAL \\nSCIENCE', 'EUROPEAN \\nHISTORY', 'FRENCH LANG. & CULTURE', 'GERMAN LANG. & CULTURE', 'GOVERNMENT &\\nPOLITICS COMP.', 'GOVERNMENT &\\nPOLITICS U.S.', 'HUMAN\\nGEOGRAPHY', 'ITALIAN LANG. & CULTURE', 'JAPANESE LANG. & CULTURE', 'LATIN\\n', 'MUSIC THEORY', 'PHYSICS 1', 'PHYSICS 2', 'PHYSICS C:\\nELEC. & MAGNET.', 'PHYSICS C:\\nMECHANICS', 'PSYCHOLOGY', 'SEMINAR', 'SPANISH LANG. & CULTURE', 'SPANISH LIT &\\nCULTURE', 'STATISTICS', 'STUDIO ART: \\n2-D DESIGN', 'STUDIO ART: \\n3-D DESIGN', 'STUDIO ART: \\nDRAWING', 'US HISTORY', 'WORLD HISTORY']\n",
    "```"
   ]
  },
  {
   "cell_type": "code",
   "execution_count": null,
   "metadata": {
    "collapsed": false
   },
   "outputs": [],
   "source": [
    "def get_ethnic_breakdown_by_topic(workbook, topic):\n",
    "    worksheet = workbook.get_sheet_by_name(\"All\")\n",
    "    data = []\n",
    "    ethnicity = []\n",
    "    last_ethnic_group = None\n",
    "    row_count = 0\n",
    "    topics = None\n",
    "    for row in worksheet.iter_rows():\n",
    "        ethnic_group = row[1]\n",
    "        ap_score = row[2]\n",
    "        if row_count < 5:\n",
    "            pass\n",
    "        elif row_count == 5: ## get topics, remove newlines\n",
    "            topics = [item.value for item in row]\n",
    "        else:\n",
    "            if ethnic_group.value is not None and not ethnic_group.value.startswith(\" \"):\n",
    "                if ethnic_group.value.strip() != last_ethnic_group:\n",
    "                    last_ethnic_group = ethnic_group.value.strip()\n",
    "                    ethnicity.append(last_ethnic_group)\n",
    "            if ap_score.value == \"T\":\n",
    "                col = topics.index(topic)\n",
    "                data.append(row[col].value)\n",
    "        row_count += 1\n",
    "    ## The sum of all but last should equal last:\n",
    "    assert sum(data[:-1]) == data[-1]\n",
    "    results = data[:-1]\n",
    "    return [v.strip().title() for v in ethnicity[:len(results)]], results"
   ]
  },
  {
   "cell_type": "code",
   "execution_count": null,
   "metadata": {
    "collapsed": false
   },
   "outputs": [],
   "source": [
    "data = get_ethnic_breakdown_by_topic(workbook, \"COMPUTER \\nSCIENCE A\")"
   ]
  },
  {
   "cell_type": "code",
   "execution_count": null,
   "metadata": {
    "collapsed": false
   },
   "outputs": [],
   "source": [
    "data"
   ]
  },
  {
   "cell_type": "markdown",
   "metadata": {},
   "source": [
    "Now, let's turn that into a bar chart: "
   ]
  },
  {
   "cell_type": "code",
   "execution_count": null,
   "metadata": {
    "collapsed": false
   },
   "outputs": [],
   "source": [
    "import numpy as np\n",
    "\n",
    "fig = plt.figure()\n",
    "ax = fig.add_subplot(111)\n",
    "\n",
    "width = .35\n",
    "index = np.arange(len(data[1]))\n",
    "bars = ax.bar(index, data[1]);\n",
    "\n",
    "xTickMarks = data[0]\n",
    "ax.set_xticks(index+width)\n",
    "xtickNames = ax.set_xticklabels(xTickMarks)\n",
    "plt.setp(xtickNames, rotation=90, fontsize=10);"
   ]
  },
  {
   "cell_type": "markdown",
   "metadata": {},
   "source": [
    "That code is way too complicated for me to produce a bar chart! I'm looking for another solution for me and students.\n",
    "\n",
    "Hope this was useful!"
   ]
  }
 ],
 "metadata": {
  "kernelspec": {
   "display_name": "Python 3",
   "language": "python",
   "name": "python3"
  },
  "language_info": {
   "codemirror_mode": {
    "name": "ipython",
    "version": 3
   },
   "file_extension": ".py",
   "mimetype": "text/x-python",
   "name": "python",
   "nbconvert_exporter": "python",
   "pygments_lexer": "ipython3",
   "version": "3.3.5"
  }
 },
 "nbformat": 4,
 "nbformat_minor": 0
}
